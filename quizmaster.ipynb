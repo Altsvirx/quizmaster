{
  "nbformat": 4,
  "nbformat_minor": 0,
  "metadata": {
    "colab": {
      "provenance": [],
      "authorship_tag": "ABX9TyOwpi0mH3yPDBd4Sun+XNDJ",
      "include_colab_link": true
    },
    "kernelspec": {
      "name": "python3",
      "display_name": "Python 3"
    },
    "language_info": {
      "name": "python"
    }
  },
  "cells": [
    {
      "cell_type": "markdown",
      "metadata": {
        "id": "view-in-github",
        "colab_type": "text"
      },
      "source": [
        "<a href=\"https://colab.research.google.com/github/Altsvirx/quizmaster/blob/main/quizmaster.ipynb\" target=\"_parent\"><img src=\"https://colab.research.google.com/assets/colab-badge.svg\" alt=\"Open In Colab\"/></a>"
      ]
    },
    {
      "cell_type": "code",
      "source": [
        "!pip install -q -U google-generativeai\n",
        "\n",
        "# Import the Python SDK\n",
        "import google.generativeai as genai\n",
        "import random\n",
        "import re\n",
        "from google.colab import userdata\n",
        "GOOGLE_API_KEY='SUA_API_KEY'\n",
        "google_api_key = userdata.get('SECRET_KEY')\n",
        "genai.configure(api_key=google_api_key)\n",
        "\n",
        "\n",
        "# Escolha o modelo (sem a versão)\n",
        "model = genai.GenerativeModel('gemini-pro')\n",
        "\n",
        "def gerar_pergunta(disciplina):\n",
        "  \"\"\"Gera uma pergunta de múltipla escolha sobre a disciplina.\"\"\"\n",
        "  prompt = f\"Crie uma pergunta de múltipla escolha sobre {disciplina}, com 4 alternativas (A, B, C, D). No final, escreva apenas a letra da alternativa correta entre colchetes, por exemplo, [A].\"\n",
        "  response = model.generate_content(prompt)\n",
        "  # Extrair a pergunta e a resposta usando expressões regulares (mais flexíveis)\n",
        "  pergunta_match = re.search(r'^(.*)\\n.*\\[?(\\w)\\]?$', response.text, re.DOTALL)\n",
        "  if pergunta_match:\n",
        "    pergunta = pergunta_match.group(1).strip()\n",
        "    resposta_correta = pergunta_match.group(2).upper()\n",
        "    return pergunta, resposta_correta\n",
        "  else:\n",
        "    raise ValueError(\"A resposta do modelo não está no formato esperado.\")\n",
        "\n",
        "def jogar_quiz(disciplina, num_perguntas=5):\n",
        "  \"\"\"Executa o quiz com o número especificado de perguntas.\"\"\"\n",
        "  pontuacao = 0\n",
        "  for _ in range(num_perguntas):\n",
        "    pergunta, resposta_correta = gerar_pergunta(disciplina)\n",
        "    print(pergunta)\n",
        "    resposta_usuario = input(\"Sua resposta (A, B, C ou D): \").upper()\n",
        "    if resposta_usuario == resposta_correta:\n",
        "      print(\"Correto!\")\n",
        "      pontuacao += 1\n",
        "    else:\n",
        "      print(f\"Incorreto. A resposta correta era {resposta_correta}\")\n",
        "  print(f\"\\nVocê acertou {pontuacao} de {num_perguntas} perguntas.\")\n",
        "\n",
        "disciplina = input(\"Qual disciplina você escolhe? \")\n",
        "jogar_quiz(disciplina)"
      ],
      "metadata": {
        "id": "RvhU5r6Me57O"
      },
      "execution_count": null,
      "outputs": []
    }
  ]
}